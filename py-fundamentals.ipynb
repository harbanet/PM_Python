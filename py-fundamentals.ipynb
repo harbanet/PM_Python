{
 "cells": [
  {
   "cell_type": "markdown",
   "metadata": {
    "id": "oKQ_vxKTBNgq"
   },
   "source": [
    "# Python Fundamentals"
   ]
  },
  {
   "cell_type": "markdown",
   "metadata": {
    "id": "qcN3RqzAIMnh"
   },
   "source": [
    "## Language overview\n",
    "\n",
    "Note: this is *not* a language course! You are expected you to master the language in your own time.\n",
    "\n",
    "Python ...\n",
    "\n",
    "- is *interpreted*\n",
    "- is *dynamically-typed* (vs. statically typed)\n",
    "- is *automatically memory-managed*\n",
    "- supports *procedural*, *object-oriented*, *imperative* and *functional* programming paradigms\n",
    "- has a single reference implementation (CPython)\n",
    "- version 3 (the most recent version) is *not backwards-compatible* with version 2, though the latter is still widely used\n",
    "- has an interesting programming philosophy: \"There should be one — and preferably only one — obvious way to do it.\" (a.k.a. the \"Pythonic\" way) — see [The Zen of Python](https://www.python.org/dev/peps/pep-0020/)"
   ]
  },
  {
   "cell_type": "markdown",
   "metadata": {
    "id": "xsLB1f4Y40Kl"
   },
   "source": [
    "## Variables, handling Strings etc"
   ]
  },
  {
   "cell_type": "code",
   "execution_count": null,
   "metadata": {
    "scrolled": true
   },
   "outputs": [
    {
     "name": "stdout",
     "output_type": "stream",
     "text": [
      "Hello world!\n",
      "What is your name: \n"
     ]
    }
   ],
   "source": [
    "print(\"Hello world!\")\n",
    "print(\"What is your name: \")\n",
    "name = input(\"What is your name: \")\n",
    "print(\"Nice to see you:\", name, sep=\"*****\")\n",
    "print(\"Nice to see you: \" + name)\n",
    "print(f\"Nice to see you: , {name}\")\n",
    "print('')\n",
    "print('', end=\"&&&&&\")\n",
    "#print(\"\")\n",
    "print(\"Actually \"+ name + \" is my \\\"friend\\\"\")\n",
    "print('Actually '+ name + ' is my \"friend\"')\n"
   ]
  },
  {
   "cell_type": "code",
   "execution_count": null,
   "metadata": {},
   "outputs": [],
   "source": [
    "# print function \n",
    "print(*object, sep='', end='\\n', file=sys.stdout, flush=False)\n"
   ]
  },
  {
   "cell_type": "code",
   "execution_count": null,
   "metadata": {
    "scrolled": true
   },
   "outputs": [],
   "source": [
    "name = input(\"What is your name: \")\n",
    "name = name.strip()\n",
    "name = name.capitalize()\n",
    "name = name.title()\n",
    "print(name)\n",
    "myName = input(\"What is your name? \").strip().title()\n",
    "print(myName)"
   ]
  },
  {
   "cell_type": "markdown",
   "metadata": {},
   "source": [
    "### Comment in Python"
   ]
  },
  {
   "cell_type": "code",
   "execution_count": null,
   "metadata": {},
   "outputs": [],
   "source": [
    "# this is comment 1\n",
    "# this is comment 2\n",
    "\"\"\"\n",
    "Comment line 1\n",
    "Comment line 2\n",
    "Comment line 3\n",
    "\n",
    "\"\"\""
   ]
  },
  {
   "cell_type": "code",
   "execution_count": null,
   "metadata": {
    "scrolled": true
   },
   "outputs": [],
   "source": [
    "x = 50\n",
    "y = 20\n",
    "z = x + y\n",
    "print(z)\n",
    "\n",
    "#x = int(input(\" x = \"))\n",
    "#y = int(input(\" y = \"))\n",
    "#z = x + y\n",
    "#print(z)\n",
    "\n",
    "x = input(\" x = \")\n",
    "y = input(\" y = \")\n",
    "z = int(x) + int(y)\n",
    "print(z)\n",
    "\n",
    "x = float(input(\" x = \"))\n",
    "y = float(input(\" y = \"))\n",
    "z = x + y\n",
    "print(z)"
   ]
  },
  {
   "cell_type": "markdown",
   "metadata": {},
   "source": [
    "round(number[, ndigits) "
   ]
  },
  {
   "cell_type": "code",
   "execution_count": null,
   "metadata": {
    "scrolled": true
   },
   "outputs": [],
   "source": [
    "x = float(input(\" x = \"))\n",
    "y = float(input(\" y = \"))\n",
    "z = round(x/y, 3) // ceil, floor\n",
    "print(z)\n",
    "print(f\"{z:.2f}\")\n"
   ]
  },
  {
   "cell_type": "code",
   "execution_count": null,
   "metadata": {},
   "outputs": [],
   "source": [
    "x = int(input(\" x = \"))\n",
    "y = int(input(\" y = \"))\n",
    "z = x * y\n",
    "print(f\"{z:,}\")"
   ]
  },
  {
   "cell_type": "markdown",
   "metadata": {
    "id": "xPUSfNyE6DVW"
   },
   "source": [
    "## Selection statements\n"
   ]
  },
  {
   "cell_type": "markdown",
   "metadata": {
    "id": "3K1mqM-p6ZLI"
   },
   "source": [
    "## Functions\n",
    "\n",
    "*A function is like a miniprogram within a program*\n",
    "*methods*\n",
    "\n",
    "def name(parameters):\n",
    "    statements"
   ]
  },
  {
   "cell_type": "code",
   "execution_count": null,
   "metadata": {
    "id": "q83FUAyW64hQ"
   },
   "outputs": [],
   "source": [
    "def main():\n",
    "    myName = input(\"Enter your name: \")\n",
    "    hello()\n",
    "    \n",
    "def hello():\n",
    "    print(\"Hello world\")\n",
    "    print(\"Hello world\")\n",
    "    print(\"Hello world\")\n",
    "\n",
    "main()\n",
    "#hello()\n",
    "  "
   ]
  },
  {
   "cell_type": "code",
   "execution_count": null,
   "metadata": {},
   "outputs": [],
   "source": [
    "## Demonstrate the scope of variables.\n",
    "def main():\n",
    "    x = 2\n",
    "    print(str(x) + \": function main\")\n",
    "    trivial()\n",
    "    print(str(x) + \": function main\")\n",
    "\n",
    "def trivial():\n",
    "    x = 3\n",
    "    print(str(x) + \": function trivial\")\n",
    "\n",
    "main()    \n"
   ]
  },
  {
   "cell_type": "markdown",
   "metadata": {},
   "source": [
    "### Question: Write a function that calculates a cube of a given value."
   ]
  },
  {
   "cell_type": "code",
   "execution_count": null,
   "metadata": {},
   "outputs": [],
   "source": [
    "def main():\n",
    "    value = int(input(\"Enter the value: \"))\n",
    "    print(value, \" to power 3 = \", cubed(value), sep=\"\" )\n",
    "    \n",
    "def cubed(n): # parameter or argument\n",
    "    return n * n * n # n ** 3, pow(n, 3)\n",
    "\n",
    "main()"
   ]
  },
  {
   "cell_type": "markdown",
   "metadata": {
    "id": "NovsMT7349Dm"
   },
   "source": [
    "## Control Statements"
   ]
  },
  {
   "cell_type": "markdown",
   "metadata": {
    "id": "xvCGsUoa5NUR"
   },
   "source": [
    "### whole ... statement\n",
    "\n",
    "Syntax:\n",
    "\n",
    "while condition:\n",
    "  statements"
   ]
  },
  {
   "cell_type": "code",
   "execution_count": null,
   "metadata": {
    "id": "vDp0FzNkY8Uh"
   },
   "outputs": [],
   "source": [
    "# example:\n",
    "count = 1\n",
    "while (count < 10):\n",
    "    print(\"hello whole\")\n",
    "    if count == 5:\n",
    "        break\n",
    "    count = count +1"
   ]
  },
  {
   "cell_type": "code",
   "execution_count": null,
   "metadata": {},
   "outputs": [],
   "source": [
    "# example:\n",
    "\n",
    "while True:\n",
    "    print(\"hello whole\")\n",
    "    stopper = int(input(\"Enter 0 to stop \"))\n",
    "    if stopper != 0:\n",
    "        continue\n",
    "    print(\"hello whole\")"
   ]
  },
  {
   "cell_type": "markdown",
   "metadata": {
    "id": "2MhFOi5T59CY"
   },
   "source": [
    "### for ... loop"
   ]
  },
  {
   "cell_type": "markdown",
   "metadata": {},
   "source": [
    "How can we write a \"for\" or \"while\" loop that prints out all the multiples of 3 down from 100 to 0 in descending order?"
   ]
  },
  {
   "cell_type": "code",
   "execution_count": null,
   "metadata": {},
   "outputs": [],
   "source": [
    "for i in reversed(range(100)):\n",
    "    if i%3==0:\n",
    "        print(i)"
   ]
  },
  {
   "cell_type": "markdown",
   "metadata": {},
   "source": [
    "### Multiplication table example."
   ]
  },
  {
   "cell_type": "code",
   "execution_count": null,
   "metadata": {},
   "outputs": [],
   "source": [
    "def main():\n",
    "    multiplier(12)\n",
    "    \n",
    "def multiplier(size):\n",
    "    for i in range(1, size+1):\n",
    "        for j in range(1, size+1):\n",
    "            print(f\"{str(i*j):>4}\", end=\"\")\n",
    "        print()\n",
    "        \n",
    "main()"
   ]
  },
  {
   "cell_type": "markdown",
   "id": "1101e7d3",
   "metadata": {},
   "source": [
    "## Python Data Structures"
   ]
  },
  {
   "cell_type": "markdown",
   "id": "96e389cb",
   "metadata": {},
   "source": [
    "### Python Data Structures are grouped into the following categories.\n",
    "1. Text Type: str\n",
    "2. Numeric Types: int, float, complex\n",
    "3. Sequence Types: list, tuple, range\n",
    "4. Mapping Type: dict\n",
    "5. Set Types: set, frozenset\n",
    "6. Boolean Type: bool\n",
    "7. Binary Types: bytes, bytearray, memoryview\n",
    "8. None Type: None"
   ]
  },
  {
   "cell_type": "markdown",
   "id": "c7938b51",
   "metadata": {},
   "source": [
    "### List\n",
    "General purpose and widely used data structure, grow and shrink size, sequence type, sortable, mixed types, ordered but can be changed, duplicate entries are present.\n"
   ]
  },
  {
   "cell_type": "code",
   "execution_count": 1,
   "id": "cfeaba75",
   "metadata": {},
   "outputs": [
    {
     "name": "stdout",
     "output_type": "stream",
     "text": [
      "mooooo\n",
      "mooooo\n",
      "mooooo\n",
      "mooooo\n"
     ]
    }
   ],
   "source": [
    "# students = [] \n",
    "for i in [0, 1, 2, 3]: # list\n",
    "    print(\"mooooo\")"
   ]
  },
  {
   "cell_type": "code",
   "execution_count": 2,
   "id": "7d9c130e",
   "metadata": {},
   "outputs": [
    {
     "name": "stdout",
     "output_type": "stream",
     "text": [
      "John\n",
      "Joe\n",
      "Jacob\n",
      "Job\n"
     ]
    }
   ],
   "source": [
    "students = [\"John\", \"Joe\", \"Jacob\", \"Job\"]\n",
    "\n",
    "for student in students:\n",
    "    print(student)\n"
   ]
  },
  {
   "cell_type": "code",
   "execution_count": 4,
   "id": "6f0f92f7",
   "metadata": {},
   "outputs": [
    {
     "name": "stdout",
     "output_type": "stream",
     "text": [
      "John\n",
      "Joe\n",
      "Jacob\n",
      "Job\n"
     ]
    }
   ],
   "source": [
    "print(students[0])\n",
    "print(students[1])\n",
    "print(students[2])\n",
    "print(students[3])"
   ]
  },
  {
   "cell_type": "code",
   "execution_count": null,
   "id": "ecac7fb5",
   "metadata": {},
   "outputs": [],
   "source": [
    "a = 5j # complex\n",
    "type(a)\n",
    "lst = [] # list\n",
    "tp = () # tuple\n",
    "str1 = 'John' # string\n",
    "str1.upper() # change to uppercase\n",
    "name = 'z' # character\n",
    "print(str1[1:]) # print from index 1 till the end\n",
    "lst.append()\n",
    "lst.insert(4, 49)\n",
    "lst.reverse()\n",
    "n = 3<4 # n = True\n",
    "int(n) # bool\n",
    "myset = {1, 'John'}\n",
    "fruits = {'mango', 'banana'}\n",
    "fruits = {'mango', 'mango', 'banana'} # sets do not permit duplicates - this is a set of only 2 members.\n",
    "Len()\n",
    "dt = { 1: 'mangoes', 2: 'bananas'} # this is a dict, notice difference between sets and dictionary"
   ]
  },
  {
   "cell_type": "code",
   "execution_count": 2,
   "id": "30d9e110",
   "metadata": {},
   "outputs": [
    {
     "name": "stdout",
     "output_type": "stream",
     "text": [
      "n\n"
     ]
    }
   ],
   "source": [
    "str1 = 'John'\n",
    "print(str1[-1:])"
   ]
  },
  {
   "cell_type": "markdown",
   "id": "a953de5c",
   "metadata": {},
   "source": [
    "### Range"
   ]
  },
  {
   "cell_type": "code",
   "execution_count": null,
   "id": "18ca4f67",
   "metadata": {},
   "outputs": [],
   "source": [
    "# Try out the following lines\n",
    "range(10)\n",
    "list(range(10))\n",
    "list(range(2, 10, 2))\n",
    "type (range (10) )"
   ]
  },
  {
   "cell_type": "code",
   "execution_count": 9,
   "id": "79079460",
   "metadata": {},
   "outputs": [
    {
     "name": "stdout",
     "output_type": "stream",
     "text": [
      "1 - John\n",
      "2 - Joe\n",
      "3 - Jacob\n",
      "4 - Job\n"
     ]
    }
   ],
   "source": [
    "for s in range(len(students)):\n",
    "    print(s+1, students[s], sep=\" - \")\n",
    "    "
   ]
  },
  {
   "cell_type": "code",
   "execution_count": 10,
   "id": "fba78114",
   "metadata": {},
   "outputs": [
    {
     "name": "stdout",
     "output_type": "stream",
     "text": [
      "Yes he is.\n"
     ]
    }
   ],
   "source": [
    "if \"Job\" in students:\n",
    "    print(\"Yes he is.\")\n",
    "else:\n",
    "    print(\"Nope\")"
   ]
  },
  {
   "cell_type": "markdown",
   "id": "989ed3e7",
   "metadata": {},
   "source": [
    "### Dictionary"
   ]
  },
  {
   "cell_type": "code",
   "execution_count": 19,
   "id": "536f8c94",
   "metadata": {},
   "outputs": [],
   "source": [
    "# dictionary = {keys: values}\n",
    "#students = {} # empty dictionary\n",
    "students2 = {\n",
    "    \"Okello\": \"Gulu\",\n",
    "    \"Kizito\": \"Mukono\",\n",
    "    \"Onyango\": \"Tororo\",\n",
    "    \"Mbabazi\": \"Rukungiri\"\n",
    "}"
   ]
  },
  {
   "cell_type": "code",
   "execution_count": 21,
   "id": "4aef8e18",
   "metadata": {},
   "outputs": [
    {
     "name": "stdout",
     "output_type": "stream",
     "text": [
      "Okello - Gulu\n",
      "Kizito - Mukono\n",
      "Onyango - Tororo\n",
      "Mbabazi - Rukungiri\n"
     ]
    }
   ],
   "source": [
    "for student in students2:\n",
    "    print(student, students2[student], sep=\" - \")"
   ]
  },
  {
   "cell_type": "code",
   "execution_count": 22,
   "id": "6b22c153",
   "metadata": {},
   "outputs": [
    {
     "name": "stdout",
     "output_type": "stream",
     "text": [
      "Okello\n",
      "Kizito\n",
      "Onyango\n",
      "Mbabazi\n"
     ]
    }
   ],
   "source": [
    "for student in students2:\n",
    "    print(student)"
   ]
  },
  {
   "cell_type": "code",
   "execution_count": null,
   "id": "e950fbff",
   "metadata": {},
   "outputs": [],
   "source": [
    "###################\n",
    "# SN  Name    District     Field\n",
    "# 0   Okello  Gulu         Engineering\n",
    "# 1   Kizito  Mukono       Business\n",
    "#\n",
    "#"
   ]
  },
  {
   "cell_type": "code",
   "execution_count": 29,
   "id": "b4684f46",
   "metadata": {},
   "outputs": [
    {
     "name": "stdout",
     "output_type": "stream",
     "text": [
      "Okello,Gulu,Engineering\n",
      "Kizito,Mukono,Business\n",
      "Onyango,Tororo,Agric\n",
      "Mbabazi,Rukungiri,Education\n"
     ]
    }
   ],
   "source": [
    "persons = [\n",
    "    {\"name\": \"Okello\", \"district\":\"Gulu\", \"field\": \"Engineering\"}, \n",
    "    {\"name\": \"Kizito\", \"district\":\"Mukono\", \"field\": \"Business\"}, \n",
    "    {\"name\": \"Onyango\", \"district\":\"Tororo\", \"field\": \"Agric\"}, \n",
    "    {\"name\": \"Mbabazi\", \"district\":\"Rukungiri\", \"field\": None}\n",
    "]\n",
    "for person in persons:\n",
    "    print(person[\"name\"], person[\"district\"], person[\"field\"], sep=\",\")"
   ]
  },
  {
   "cell_type": "code",
   "execution_count": null,
   "id": "03b8d416",
   "metadata": {},
   "outputs": [],
   "source": [
    "d = {\"james\": \"samsung\", \"jacob\": \"iPhone\", \"Richard\": \"Techno\"}"
   ]
  },
  {
   "cell_type": "code",
   "execution_count": null,
   "id": "03209e2c",
   "metadata": {},
   "outputs": [],
   "source": [
    "# try out the following line.\n",
    "d\n",
    "d.keys()\n",
    "d.values()\n",
    "d[\"jacob\"]\n",
    "d.get(\"Richard\")"
   ]
  }
 ],
 "metadata": {
  "colab": {
   "authorship_tag": "ABX9TyP6ltp93WhF+9Iiy7VzI8oo",
   "name": "01_py_fundamentals.ipynb",
   "provenance": []
  },
  "kernelspec": {
   "display_name": "Python 3 (ipykernel)",
   "language": "python",
   "name": "python3"
  },
  "language_info": {
   "codemirror_mode": {
    "name": "ipython",
    "version": 3
   },
   "file_extension": ".py",
   "mimetype": "text/x-python",
   "name": "python",
   "nbconvert_exporter": "python",
   "pygments_lexer": "ipython3",
   "version": "3.9.7"
  },
  "vscode": {
   "interpreter": {
    "hash": "aee8b7b246df8f9039afb4144a1f6fd8d2ca17a180786b69acc140d282b71a49"
   }
  }
 },
 "nbformat": 4,
 "nbformat_minor": 1
}
